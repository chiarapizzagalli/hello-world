{
 "cells": [
  {
   "cell_type": "markdown",
   "id": "66255a06-724b-4d5b-ae11-da49fe1a45ca",
   "metadata": {},
   "source": [
    "# TIRAMISU'"
   ]
  },
  {
   "cell_type": "markdown",
   "id": "da1be7dd-dc23-409e-8bc8-2d66d884cb74",
   "metadata": {},
   "source": [
    "Ingredienti per:"
   ]
  },
  {
   "cell_type": "code",
   "execution_count": 26,
   "id": "677f1d63-a157-43db-bf4f-ad0861de0105",
   "metadata": {
    "tags": []
   },
   "outputs": [],
   "source": [
    "n=8"
   ]
  },
  {
   "cell_type": "code",
   "execution_count": 27,
   "id": "18fc7bd5-5b11-4eaf-829f-da3162127c7c",
   "metadata": {},
   "outputs": [
    {
     "name": "stdout",
     "output_type": "stream",
     "text": [
      "grammi savoiardi 300\n"
     ]
    }
   ],
   "source": [
    "savoiardi= 300 \n",
    "print(\"grammi savoiardi\", savoiardi)"
   ]
  },
  {
   "cell_type": "code",
   "execution_count": 28,
   "id": "c4acd37c-14c5-45a0-acf2-712597c69940",
   "metadata": {},
   "outputs": [
    {
     "name": "stdout",
     "output_type": "stream",
     "text": [
      "grammi mascarpone 500\n"
     ]
    }
   ],
   "source": [
    "mascarpone= 500\n",
    "print(\"grammi mascarpone\", mascarpone)"
   ]
  },
  {
   "cell_type": "code",
   "execution_count": 29,
   "id": "17f1ad52-4778-4437-9f9f-988c353f9419",
   "metadata": {},
   "outputs": [
    {
     "name": "stdout",
     "output_type": "stream",
     "text": [
      "grammi caffè  300\n"
     ]
    }
   ],
   "source": [
    "caffè= 300\n",
    "print(\"grammi caffè \", caffè)"
   ]
  },
  {
   "cell_type": "code",
   "execution_count": 30,
   "id": "a7cef856-17d6-4cc7-9d95-dbf73961693a",
   "metadata": {
    "tags": []
   },
   "outputs": [
    {
     "name": "stdout",
     "output_type": "stream",
     "text": [
      "numero uova 4\n"
     ]
    }
   ],
   "source": [
    "uova= 4\n",
    "print(\"numero uova\", uova)"
   ]
  },
  {
   "cell_type": "code",
   "execution_count": 31,
   "id": "18faed7a-5f64-46b9-af78-97e5ccd57ebe",
   "metadata": {
    "tags": []
   },
   "outputs": [
    {
     "name": "stdout",
     "output_type": "stream",
     "text": [
      "grammi zucchero 100\n"
     ]
    }
   ],
   "source": [
    "zucchero= 100\n",
    "print(\"grammi zucchero\", zucchero)"
   ]
  },
  {
   "cell_type": "code",
   "execution_count": 2,
   "id": "cf9d0363-87c9-42d3-92c4-d064bc3371d7",
   "metadata": {
    "tags": []
   },
   "outputs": [
    {
     "name": "stdout",
     "output_type": "stream",
     "text": [
      "millilitri di marsala 5\n"
     ]
    }
   ],
   "source": [
    "marsala= 5\n",
    "print(\"millilitri di marsala\", marsala)"
   ]
  },
  {
   "cell_type": "code",
   "execution_count": 24,
   "id": "1fbd4270-fd19-447c-b64f-17bde1d115a8",
   "metadata": {
    "tags": []
   },
   "outputs": [
    {
     "name": "stdout",
     "output_type": "stream",
     "text": [
      " grammi cacao amaro 10\n"
     ]
    }
   ],
   "source": [
    "cacaoamaro= 10\n",
    "print(\" grammi cacao amaro\", cacaoamaro)"
   ]
  },
  {
   "cell_type": "markdown",
   "id": "052c0a08-e201-4129-b53b-c31861aaf610",
   "metadata": {
    "tags": []
   },
   "source": [
    "\n",
    "\n",
    "ingredienti per:"
   ]
  },
  {
   "cell_type": "code",
   "execution_count": 1,
   "id": "40992827-291a-4c74-93e6-a9e15957bd2e",
   "metadata": {},
   "outputs": [],
   "source": [
    "n=2"
   ]
  },
  {
   "cell_type": "code",
   "execution_count": 2,
   "id": "1bc44d66-0333-4a21-bb76-2609cccd48dc",
   "metadata": {},
   "outputs": [
    {
     "name": "stdout",
     "output_type": "stream",
     "text": [
      "numero uova 4\n"
     ]
    }
   ],
   "source": [
    "uova=2*n\n",
    "print(\"numero uova\", uova)"
   ]
  },
  {
   "cell_type": "code",
   "execution_count": null,
   "id": "27d77043-fd1f-4720-8ebd-0ff7466256c2",
   "metadata": {},
   "outputs": [],
   "source": []
  }
 ],
 "metadata": {
  "kernelspec": {
   "display_name": "Python 3 (ipykernel)",
   "language": "python",
   "name": "python3"
  },
  "language_info": {
   "codemirror_mode": {
    "name": "ipython",
    "version": 3
   },
   "file_extension": ".py",
   "mimetype": "text/x-python",
   "name": "python",
   "nbconvert_exporter": "python",
   "pygments_lexer": "ipython3",
   "version": "3.9.7"
  }
 },
 "nbformat": 4,
 "nbformat_minor": 5
}
