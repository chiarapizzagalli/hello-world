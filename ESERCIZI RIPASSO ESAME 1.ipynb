{
 "cells": [
  {
   "cell_type": "code",
   "execution_count": 1,
   "id": "31ea1e80-c3e5-451b-804e-cd13d034a0cb",
   "metadata": {},
   "outputs": [],
   "source": [
    "import numpy as np"
   ]
  },
  {
   "cell_type": "code",
   "execution_count": 2,
   "id": "98c6d558-82ef-4596-a48a-5fecc62c468f",
   "metadata": {},
   "outputs": [],
   "source": [
    "n= 2"
   ]
  },
  {
   "cell_type": "code",
   "execution_count": 4,
   "id": "14a00ecb-ecdc-4986-b794-2fd7d02da248",
   "metadata": {},
   "outputs": [
    {
     "name": "stdout",
     "output_type": "stream",
     "text": [
      "numero uova 4\n"
     ]
    }
   ],
   "source": [
    "uova= n*2\n",
    "print (\"numero uova\", uova)"
   ]
  },
  {
   "cell_type": "code",
   "execution_count": null,
   "id": "016d1015-55c4-4f43-85d9-d5024bfbced3",
   "metadata": {},
   "outputs": [],
   "source": []
  },
  {
   "cell_type": "code",
   "execution_count": 5,
   "id": "f2f39882-688d-4852-b5aa-eb75c90db922",
   "metadata": {},
   "outputs": [],
   "source": [
    "from matplotlib import pyplot as plt"
   ]
  },
  {
   "cell_type": "code",
   "execution_count": 6,
   "id": "83e2c41c-2f32-4f6c-83f0-d6afb6a7155d",
   "metadata": {},
   "outputs": [],
   "source": [
    "ys = 200 + np.random.randn (100)\n",
    "x= [x for x in range (len(ys))]"
   ]
  },
  {
   "cell_type": "code",
   "execution_count": 15,
   "id": "20627af8-ca10-4632-9cab-69a5485fb5cc",
   "metadata": {},
   "outputs": [
    {
     "data": {
      "image/png": "[encoded data removed]",
      "text/plain": [
       "<Figure size 432x288 with 1 Axes>"
      ]
     },
     "metadata": {
      "needs_background": "light"
     },
     "output_type": "display_data"
    }
   ],
   "source": [
    "plt.plot (x, ys, '-')\n",
    "plt.fill_between (x, ys, 195, where=(ys > 195), facecolor='b', alpha=0.1)\n",
    "plt.title(\"visualizzazione semplice\")\n",
    "plt.show()"
   ]
  },
  {
   "cell_type": "code",
   "execution_count": null,
   "id": "ddc92d3c-40dd-4ea9-ba2c-471333fbe27d",
   "metadata": {},
   "outputs": [],
   "source": [
    "#NUMERI"
   ]
  },
  {
   "cell_type": "code",
   "execution_count": 20,
   "id": "e89d63a2-7a43-4058-9b78-2bf91b4f8d57",
   "metadata": {},
   "outputs": [
    {
     "data": {
      "text/plain": [
       "array([0., 0., 0., 0., 0., 0., 0., 0., 0., 0., 0., 0., 0., 0., 0., 0., 0.,\n",
       "       0., 0., 0., 0., 0., 0., 0., 0., 0., 0., 0., 0., 0., 0., 0., 0., 0.,\n",
       "       0., 0., 0., 0., 0., 0., 0., 0., 0., 0., 0., 0., 0., 0., 0., 0.])"
      ]
     },
     "execution_count": 20,
     "metadata": {},
     "output_type": "execute_result"
    }
   ],
   "source": [
    "np.zeros(50)"
   ]
  },
  {
   "cell_type": "code",
   "execution_count": 21,
   "id": "a4978fa6-befd-4165-895d-530707e9ecd3",
   "metadata": {},
   "outputs": [
    {
     "data": {
      "text/plain": [
       "array([[1, 1, 1, 1, 1],\n",
       "       [1, 1, 1, 1, 1]])"
      ]
     },
     "execution_count": 21,
     "metadata": {},
     "output_type": "execute_result"
    }
   ],
   "source": [
    "np.ones ((2, 5), dtype=int)"
   ]
  },
  {
   "cell_type": "code",
   "execution_count": 22,
   "id": "3909eded-9ebb-47fc-ba9f-84773dd88454",
   "metadata": {},
   "outputs": [
    {
     "data": {
      "text/plain": [
       "array([[12.24, 12.24, 12.24],\n",
       "       [12.24, 12.24, 12.24],\n",
       "       [12.24, 12.24, 12.24]])"
      ]
     },
     "execution_count": 22,
     "metadata": {},
     "output_type": "execute_result"
    }
   ],
   "source": [
    "np.full ((3, 3), 12.24)"
   ]
  },
  {
   "cell_type": "code",
   "execution_count": 30,
   "id": "d8f19586-53aa-4de9-be42-d4049e7afdb6",
   "metadata": {},
   "outputs": [
    {
     "data": {
      "text/plain": [
       "array([], dtype=int32)"
      ]
     },
     "execution_count": 30,
     "metadata": {},
     "output_type": "execute_result"
    }
   ],
   "source": [
    "np.arange (6, 4)"
   ]
  },
  {
   "cell_type": "code",
   "execution_count": 31,
   "id": "fd3915ca-b37f-4ee4-a4eb-4bed76db7c8e",
   "metadata": {},
   "outputs": [
    {
     "data": {
      "text/plain": [
       "array([  0.,  25.,  50.,  75., 100.])"
      ]
     },
     "execution_count": 31,
     "metadata": {},
     "output_type": "execute_result"
    }
   ],
   "source": [
    "np.linspace(0, 100, 5)"
   ]
  },
  {
   "cell_type": "code",
   "execution_count": 32,
   "id": "26885d92-3c0f-4359-b167-45ea5de9512f",
   "metadata": {},
   "outputs": [
    {
     "data": {
      "text/plain": [
       "array([[0.9889565 , 0.78279007, 0.22798154, 0.09201647, 0.82407374,\n",
       "        0.64680937, 0.89301988, 0.62656751, 0.63050733, 0.80807544]])"
      ]
     },
     "execution_count": 32,
     "metadata": {},
     "output_type": "execute_result"
    }
   ],
   "source": [
    "np.random.random((1, 10))"
   ]
  },
  {
   "cell_type": "code",
   "execution_count": 33,
   "id": "39cc659d-a851-43d6-8f91-b06bbed9b637",
   "metadata": {},
   "outputs": [
    {
     "data": {
      "text/plain": [
       "array([[ 5.97635490e-01, -2.58738275e+00,  1.49827127e+00,\n",
       "        -3.92392137e-01,  1.87056213e-01, -1.51543380e-01,\n",
       "        -2.05492323e+00, -9.58623775e-01,  1.81040390e+00,\n",
       "         8.55290263e-01],\n",
       "       [ 2.08069140e+00,  8.95857801e-01, -6.84687198e-01,\n",
       "        -1.01955386e-03, -3.79881173e-02,  1.81161001e-01,\n",
       "        -9.34925228e-01,  1.25495638e-01, -8.07813616e-01,\n",
       "        -6.29546433e-01]])"
      ]
     },
     "execution_count": 33,
     "metadata": {},
     "output_type": "execute_result"
    }
   ],
   "source": [
    "np.random.normal(0, 1, (2, 10))"
   ]
  },
  {
   "cell_type": "code",
   "execution_count": null,
   "id": "b1371787-f0bf-4225-be8c-310c53df7f09",
   "metadata": {},
   "outputs": [],
   "source": []
  },
  {
   "cell_type": "code",
   "execution_count": null,
   "id": "8c34604d-5026-414a-8d36-fb680fe24293",
   "metadata": {},
   "outputs": [],
   "source": [
    "NumPy Array Attributes"
   ]
  },
  {
   "cell_type": "code",
   "execution_count": 34,
   "id": "b9a8169e-57a4-427e-a4b3-fe07f40f8788",
   "metadata": {
    "collapsed": false,
    "jupyter": {
     "outputs_hidden": false
    }
   },
   "outputs": [],
   "source": [
    "import numpy as np\n",
    "np.random.seed(0)  # seed for reproducibility\n",
    "\n",
    "x1 = np.random.randint(10, size=6)  # One-dimensional array\n",
    "x2 = np.random.randint(10, size=(3, 4))  # Two-dimensional array\n",
    "x3 = np.random.randint(10, size=(3, 4, 5))  # Three-dimensional array"
   ]
  },
  {
   "cell_type": "code",
   "execution_count": 2,
   "id": "18154422-ef17-488e-8185-1bd8e84f2d9a",
   "metadata": {
    "tags": []
   },
   "outputs": [
    {
     "name": "stdout",
     "output_type": "stream",
     "text": [
      "x3 ndim:  3\n",
      "x3 shape: (3, 4, 5)\n",
      "x3 size:  60\n"
     ]
    }
   ],
   "source": [
    "print(\"x3 ndim: \", x3.ndim)\n",
    "print(\"x3 shape:\", x3.shape)\n",
    "print(\"x3 size: \", x3.size)"
   ]
  },
  {
   "cell_type": "code",
   "execution_count": 35,
   "id": "525144fe-70b3-4d67-ab7c-511050aeb827",
   "metadata": {},
   "outputs": [
    {
     "name": "stdout",
     "output_type": "stream",
     "text": [
      "x2 ndim:  2\n",
      "x2 shape: (3, 4)\n",
      "x2 size:  12\n"
     ]
    }
   ],
   "source": [
    "print(\"x2 ndim: \", x2.ndim)\n",
    "print(\"x2 shape:\", x2.shape)\n",
    "print(\"x2 size: \", x2.size)"
   ]
  },
  {
   "cell_type": "code",
   "execution_count": 36,
   "id": "48a2c29c-c710-4d61-9735-b878750d3cea",
   "metadata": {},
   "outputs": [
    {
     "name": "stdout",
     "output_type": "stream",
     "text": [
      "x1 ndim:  1\n",
      "x1 shape: (6,)\n",
      "x1 size:  6\n"
     ]
    }
   ],
   "source": [
    "print(\"x1 ndim: \", x1.ndim)\n",
    "print(\"x1 shape:\", x1.shape)\n",
    "print(\"x1 size: \", x1.size)"
   ]
  },
  {
   "cell_type": "code",
   "execution_count": 40,
   "id": "9da8080c-c990-4b75-b688-12c154d507ff",
   "metadata": {},
   "outputs": [
    {
     "name": "stdout",
     "output_type": "stream",
     "text": [
      "x2 ndim:  2\n",
      "x2 shape: (3, 4)\n",
      "x1 size:  6\n"
     ]
    }
   ],
   "source": [
    "print(\"x2 ndim: \", x2.ndim)\n",
    "print(\"x2 shape:\", x2.shape)\n",
    "print(\"x1 size: \", x1.size)"
   ]
  },
  {
   "cell_type": "code",
   "execution_count": null,
   "id": "5753181a-dd6e-4486-8096-4f224adeb4fd",
   "metadata": {},
   "outputs": [],
   "source": []
  },
  {
   "cell_type": "code",
   "execution_count": null,
   "id": "e4da9eff-3450-4c5a-99de-e87e5b92fb1f",
   "metadata": {},
   "outputs": [],
   "source": [
    "Array Indexing: Accessing Single Elements"
   ]
  },
  {
   "cell_type": "code",
   "execution_count": 43,
   "id": "a6c2e55d-09c8-4980-b223-fe94e24ce3ce",
   "metadata": {},
   "outputs": [
    {
     "data": {
      "text/plain": [
       "array([5, 0, 3, 3, 7, 9])"
      ]
     },
     "execution_count": 43,
     "metadata": {},
     "output_type": "execute_result"
    }
   ],
   "source": [
    "x1"
   ]
  },
  {
   "cell_type": "code",
   "execution_count": 48,
   "id": "31ef0b8b-d8ce-4109-abcd-005a17961b9c",
   "metadata": {},
   "outputs": [
    {
     "ename": "SyntaxError",
     "evalue": "invalid syntax (Temp/ipykernel_27588/1970802492.py, line 1)",
     "output_type": "error",
     "traceback": [
      "\u001b[1;36m  File \u001b[1;32m\"C:\\Users\\galaxy\\AppData\\Local\\Temp/ipykernel_27588/1970802492.py\"\u001b[1;36m, line \u001b[1;32m1\u001b[0m\n\u001b[1;33m    np.ones ((2, 5), dtype=int, (<=8))\u001b[0m\n\u001b[1;37m                                 ^\u001b[0m\n\u001b[1;31mSyntaxError\u001b[0m\u001b[1;31m:\u001b[0m invalid syntax\n"
     ]
    }
   ],
   "source": [
    "np.ones ((2, 5), dtype=int, (<=8))"
   ]
  },
  {
   "cell_type": "code",
   "execution_count": null,
   "id": "762341de-a9c6-4b9f-be81-b01b2670d026",
   "metadata": {},
   "outputs": [],
   "source": []
  }
 ],
 "metadata": {
  "kernelspec": {
   "display_name": "Python 3 (ipykernel)",
   "language": "python",
   "name": "python3"
  },
  "language_info": {
   "codemirror_mode": {
    "name": "ipython",
    "version": 3
   },
   "file_extension": ".py",
   "mimetype": "text/x-python",
   "name": "python",
   "nbconvert_exporter": "python",
   "pygments_lexer": "ipython3",
   "version": "3.9.7"
  }
 },
 "nbformat": 4,
 "nbformat_minor": 5
}
